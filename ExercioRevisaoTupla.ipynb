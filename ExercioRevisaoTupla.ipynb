{
  "cells": [
    {
      "cell_type": "markdown",
      "metadata": {
        "id": "view-in-github",
        "colab_type": "text"
      },
      "source": [
        "<a href=\"https://colab.research.google.com/github/vandeir95/Apredendo_GitHub/blob/main/ExercioRevisaoTupla.ipynb\" target=\"_parent\"><img src=\"https://colab.research.google.com/assets/colab-badge.svg\" alt=\"Open In Colab\"/></a>"
      ]
    },
    {
      "cell_type": "markdown",
      "metadata": {
        "id": "R-0isR87rTSC"
      },
      "source": [
        "'''Questões de Python com Conjuntos e Tuplas'''\n",
        "\n",
        "'''Nível Estagiário'''\n",
        "\n",
        "'''1 - Crie uma tupla chamada `cores` contendo os elementos `'vermelho'`, `'azul'`, e `'verde'`.\n",
        "Em seguida, imprima o segundo elemento da tupla.'''\n",
        "print('tupla cores')\n",
        "#escreva o código aqui"
      ]
    },
    {
      "cell_type": "code",
      "execution_count": null,
      "metadata": {
        "colab": {
          "base_uri": "https://localhost:8080/"
        },
        "id": "EaOPavNINyh4",
        "outputId": "f4a7b8ef-bd84-4aec-9c39-9561fc7dbd8b"
      },
      "outputs": [
        {
          "name": "stdout",
          "output_type": "stream",
          "text": [
            "azul\n"
          ]
        }
      ],
      "source": [
        "cores =(\"vermelho\", 'azul',  'verde')\n",
        "print(cores[1])"
      ]
    },
    {
      "cell_type": "markdown",
      "metadata": {
        "id": "7S5Qaao2r9mk"
      },
      "source": [
        "\n",
        "'''2 - Dada a tupla `numeros = (10, 20, 30, 40, 50)`, acesse e imprima o terceiro elemento.'''\n",
        "#escreva o código aqui"
      ]
    },
    {
      "cell_type": "code",
      "execution_count": null,
      "metadata": {
        "colab": {
          "base_uri": "https://localhost:8080/"
        },
        "id": "Ti4_fo1Hr8k3",
        "outputId": "947ebb95-80d4-4f82-cb94-af1ee290867f"
      },
      "outputs": [
        {
          "name": "stdout",
          "output_type": "stream",
          "text": [
            "30\n"
          ]
        }
      ],
      "source": [
        "numeros = (10, 20, 30, 40, 50)\n",
        "print(numeros[2])"
      ]
    },
    {
      "cell_type": "markdown",
      "metadata": {
        "id": "mfdqfynKsNg5"
      },
      "source": [
        "'''3 - Crie um conjunto chamado `frutas` com os elementos `'maçã'`, `'banana'`, `'laranja'`, e `'uva'`.\n",
        "Em seguida, adicione o elemento `'abacaxi'` ao conjunto.'''\n",
        "#escreva o código aqui"
      ]
    },
    {
      "cell_type": "code",
      "execution_count": null,
      "metadata": {
        "id": "2bSphTwysohV"
      },
      "outputs": [],
      "source": []
    },
    {
      "cell_type": "code",
      "execution_count": null,
      "metadata": {
        "colab": {
          "base_uri": "https://localhost:8080/"
        },
        "id": "BbzwOWmusN3j",
        "outputId": "d07a1972-66fc-40d1-df60-135919df434f"
      },
      "outputs": [
        {
          "name": "stdout",
          "output_type": "stream",
          "text": [
            "('maçã', 'banana', 'laranja', 'uva', 'abacaxi')\n"
          ]
        }
      ],
      "source": [
        "frutas = ('maçã', 'banana', 'laranja', 'uva')\n",
        "frutas = frutas + ('abacaxi',)\n",
        "\n",
        "\n",
        "print(frutas)"
      ]
    },
    {
      "cell_type": "markdown",
      "metadata": {
        "id": "2BwzztlZvp5L"
      },
      "source": [
        "\n",
        "'''4 - Dado os conjuntos `A = {1, 2, 3, 4}` e `B = {3, 4, 5, 6}`,\n",
        "imprima a **união** e a **interseção** entre os dois conjuntos.'''\n",
        "#escreva o código aqui"
      ]
    },
    {
      "cell_type": "code",
      "execution_count": null,
      "metadata": {
        "colab": {
          "base_uri": "https://localhost:8080/"
        },
        "id": "lIqKKMDKvux9",
        "outputId": "417ae2f8-0eeb-425e-8c5f-f4a50bf2565c"
      },
      "outputs": [
        {
          "name": "stdout",
          "output_type": "stream",
          "text": [
            "união de A e B {1, 2, 3, 4, 5, 6}\n",
            "interseção de A e B {3, 4}\n"
          ]
        }
      ],
      "source": [
        "A = {1, 2, 3, 4}\n",
        "B = {3, 4, 5, 6}\n",
        "uniao = A.union(B)\n",
        "intersecao = A.intersection(B)\n",
        "print(\"união de A e B\",uniao)\n",
        "print(\"interseção de A e B\",intersecao)\n"
      ]
    },
    {
      "cell_type": "markdown",
      "metadata": {
        "id": "n8xtc8aFwuAl"
      },
      "source": [
        "'''5 - Escreva uma função `contar_unicos(lista)` que receba uma lista e retorne a quantidade de elementos únicos\n",
        "utilizando conjuntos.\n",
        "Exemplo: contar_unicos(['deyverson', 'hulk', 'menin', 'menin', bernard]) deve retornar 4'''\n",
        "def contar_unicos(lista):\n",
        "  print('contar_unicos(lista)')\n",
        "  #remova o print acima e escreva o código aqui\n",
        "#não esqueça de chamar a função (com argumentos, se necessário) aqui abaixo!"
      ]
    },
    {
      "cell_type": "code",
      "execution_count": null,
      "metadata": {
        "colab": {
          "base_uri": "https://localhost:8080/"
        },
        "id": "5-6UjF3ZwuSD",
        "outputId": "3678521a-37b2-493b-ac1f-33c01c38d742"
      },
      "outputs": [
        {
          "output_type": "execute_result",
          "data": {
            "text/plain": [
              "4"
            ]
          },
          "metadata": {},
          "execution_count": 12
        }
      ],
      "source": [
        "def contar_unicos(lista):\n",
        "\n",
        "    lista = set(lista)\n",
        "    total_itens = len(lista)\n",
        "    return total_itens\n",
        "\n",
        "\n",
        "lista = ['deyverson', 'hulk', 'menin', 'menin', 'bernard']\n",
        "\n",
        "contar_unicos(lista)\n",
        "\n",
        "\n"
      ]
    },
    {
      "cell_type": "markdown",
      "source": [
        "\n",
        "'''6. Convertendo Lista para Tupla:\n",
        "Escreva uma função `converter_para_tupla(lista)` que receba uma lista e retorne uma tupla com\n",
        "os mesmos elementos.\n",
        "Exemplo:\n",
        "lista_comentada = [10, 20, 30, 40]\n",
        "print(converter_para_tupla(lista_comentada)) deve retornar (10, 20, 30, 40)'''\n",
        "def converter_para_tupla(lista):\n",
        "  print('converter_para_tupla(lista)')\n",
        "#remova o print acima e escreva o código aqui\n",
        "#não esqueça de chamar a função (com argumentos, se necessário) aqui abaixo!\n"
      ],
      "metadata": {
        "id": "_JcJm87YbcdU"
      }
    },
    {
      "cell_type": "code",
      "source": [
        "def converter_para_tupla(lista):\n",
        "    tupla = tuple(lista)\n",
        "\n",
        "    return(tupla)\n",
        "\n",
        "lista_comentada = [10, 20, 30, 40]\n",
        "\n",
        "converter_para_tupla(lista_comentada)\n",
        "\n"
      ],
      "metadata": {
        "colab": {
          "base_uri": "https://localhost:8080/"
        },
        "id": "eZHnwAT8bfos",
        "outputId": "a58e9dcc-eda4-4443-ef72-a2818d3f44e8"
      },
      "execution_count": null,
      "outputs": [
        {
          "output_type": "execute_result",
          "data": {
            "text/plain": [
              "(10, 20, 30, 40)"
            ]
          },
          "metadata": {},
          "execution_count": 15
        }
      ]
    },
    {
      "cell_type": "markdown",
      "source": [
        "\n",
        "'''10. Desempacotando Tuplas:\n",
        "Dada a tupla `pessoa = ('Ana', 25, 'Engenheira')`, desempacote os elementos da tupla em variáveis individuais e\n",
        "imprima cada uma.'''\n",
        "#escreva o código aqui\n",
        "\n",
        "#boa sorte"
      ],
      "metadata": {
        "id": "d5CaLE0qdsJR"
      }
    },
    {
      "cell_type": "code",
      "execution_count": null,
      "metadata": {
        "id": "U6EDuo4ORRhF",
        "colab": {
          "base_uri": "https://localhost:8080/"
        },
        "outputId": "b9a7e05e-196f-48c7-b299-360b22c1b476"
      },
      "outputs": [
        {
          "output_type": "stream",
          "name": "stdout",
          "text": [
            "Ana\n",
            "-------\n",
            "25\n",
            "-------\n",
            "Engenheira\n",
            "-------\n"
          ]
        }
      ],
      "source": [
        "\n",
        "\n",
        "pessoa = ('Ana', 25, 'Engenheira')\n",
        "\n",
        "for i in pessoa:\n",
        "  print(i)\n",
        "  print(\"-------\")"
      ]
    },
    {
      "cell_type": "markdown",
      "metadata": {
        "id": "rZNYy5pyrJvl"
      },
      "source": [
        "\n",
        "\n",
        "\n",
        "\n",
        "\n",
        "\n",
        "\n",
        "\n",
        "\n",
        "\n",
        "'''Escreva uma função `remover_duplicados(lista)` que receba uma lista e\n",
        "retorne uma nova lista com os elementos únicos, mantendo a ordem original dos elementos.\n",
        "Exemplo: lista_exemplo = [1, 2, 2, 3, 4, 4, 5]\n",
        "remover_duplicados(lista_exemplo) deve retornar [1, 2, 3, 4, 5]\n",
        "'''\n",
        "def remover_duplicados(lista):\n",
        "    print('remover_duplicados(lista)')\n",
        "#remova o print acima e escreva o código aqui\n",
        "#não esqueça de chamar a função (com argumentos, se necessário) aqui abaixo!"
      ]
    },
    {
      "cell_type": "code",
      "source": [
        "def remover_duplicados(lista):\n",
        "  setes = set(lista)\n",
        "  nova_lista = list(setes)\n",
        "  return(nova_lista)\n",
        "\n",
        "lista_exemplo = [1, 2, 2, 3, 4, 4, 5]\n",
        "\n",
        "remover_duplicados(lista_exemplo)"
      ],
      "metadata": {
        "colab": {
          "base_uri": "https://localhost:8080/"
        },
        "id": "IaJz-Yf_ctNL",
        "outputId": "66dac85a-954c-439b-bc4c-adc5c3296b9d"
      },
      "execution_count": null,
      "outputs": [
        {
          "output_type": "execute_result",
          "data": {
            "text/plain": [
              "[1, 2, 3, 4, 5]"
            ]
          },
          "metadata": {},
          "execution_count": 19
        }
      ]
    }
  ],
  "metadata": {
    "colab": {
      "provenance": [],
      "authorship_tag": "ABX9TyOlVuGmEiUmMmDFL1zReyVk",
      "include_colab_link": true
    },
    "kernelspec": {
      "display_name": "Python 3",
      "name": "python3"
    },
    "language_info": {
      "name": "python"
    }
  },
  "nbformat": 4,
  "nbformat_minor": 0
}